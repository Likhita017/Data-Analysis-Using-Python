{
  "nbformat": 4,
  "nbformat_minor": 0,
  "metadata": {
    "colab": {
      "provenance": []
    },
    "kernelspec": {
      "name": "python3",
      "display_name": "Python 3"
    },
    "language_info": {
      "name": "python"
    }
  },
  "cells": [
    {
      "cell_type": "markdown",
      "source": [
        "WEATHER API"
      ],
      "metadata": {
        "id": "F6GcM0dgPGfm"
      }
    },
    {
      "cell_type": "code",
      "execution_count": null,
      "metadata": {
        "colab": {
          "base_uri": "https://localhost:8080/"
        },
        "id": "_YFZuICMPgjQ",
        "outputId": "e4046e77-b3d8-4d1a-8ed5-275cdbdb347e"
      },
      "outputs": [
        {
          "output_type": "stream",
          "name": "stdout",
          "text": [
            "Enter a city name:vizag\n",
            "{'location': {'name': 'Vizag', 'region': 'Andhra Pradesh', 'country': 'India', 'lat': 17.7, 'lon': 83.3, 'tz_id': 'Asia/Kolkata', 'localtime_epoch': 1709101941, 'localtime': '2024-02-28 12:02'}, 'current': {'last_updated_epoch': 1709101800, 'last_updated': '2024-02-28 12:00', 'temp_c': 28.2, 'temp_f': 82.8, 'is_day': 1, 'condition': {'text': 'Sunny', 'icon': '//cdn.weatherapi.com/weather/64x64/day/113.png', 'code': 1000}, 'wind_mph': 7.6, 'wind_kph': 12.2, 'wind_degree': 127, 'wind_dir': 'SE', 'pressure_mb': 1013.0, 'pressure_in': 29.9, 'precip_mm': 0.0, 'precip_in': 0.0, 'humidity': 56, 'cloud': 5, 'feelslike_c': 29.6, 'feelslike_f': 85.3, 'vis_km': 10.0, 'vis_miles': 6.0, 'uv': 7.0, 'gust_mph': 8.7, 'gust_kph': 14.1}}\n",
            "City: Vizag\n",
            "State: Andhra Pradesh\n",
            "Country: India\n",
            "Temperature in c: 28.2\n",
            "Wind Speed: 7.6\n",
            "Wind direction: SE\n",
            "Humidity: 56\n",
            "Feels: 29.6\n"
          ]
        }
      ],
      "source": [
        "import requests\n",
        "api_key='ad7342712b8f48c79a653618242802'\n",
        "city=input((\"Enter a city name:\"))\n",
        "url=f\"http://api.weatherapi.com/v1/current.json?key={api_key}&q={city}\"\n",
        "response=requests.get(url)\n",
        "data=response.json()\n",
        "print(data)\n",
        "\n",
        "if response.status_code==200:\n",
        "  print(\"City:\",data['location']['name'])\n",
        "  print(\"State:\",data['location']['region'])\n",
        "  print(\"Country:\",data['location']['country'])\n",
        "  print(\"Temperature in c:\",data['current']['temp_c'])\n",
        "  print(\"Wind Speed:\",data['current']['wind_mph'])\n",
        "  print(\"Wind direction:\",data['current']['wind_dir'])\n",
        "  print(\"Humidity:\",data['current']['humidity'])\n",
        "  print(\"Feels:\",data['current']['feelslike_c'])\n",
        "else:\n",
        "  print(data['error']['message'])"
      ]
    },
    {
      "cell_type": "code",
      "source": [
        "type(data)"
      ],
      "metadata": {
        "colab": {
          "base_uri": "https://localhost:8080/"
        },
        "id": "_q4PE4ULR6fV",
        "outputId": "cebe7592-da98-4e88-96ee-c36b3c3d3ade"
      },
      "execution_count": null,
      "outputs": [
        {
          "output_type": "execute_result",
          "data": {
            "text/plain": [
              "dict"
            ]
          },
          "metadata": {},
          "execution_count": 3
        }
      ]
    },
    {
      "cell_type": "code",
      "source": [
        "print(\"City:\",data['location']['name'])"
      ],
      "metadata": {
        "colab": {
          "base_uri": "https://localhost:8080/"
        },
        "id": "PwAbBfFISJ0T",
        "outputId": "a548c8a0-43b9-47d8-a522-4850b270ba22"
      },
      "execution_count": null,
      "outputs": [
        {
          "output_type": "stream",
          "name": "stdout",
          "text": [
            "City: Hyderabad\n"
          ]
        }
      ]
    },
    {
      "cell_type": "code",
      "source": [
        "print(\"City:\",data['location']['name'])\n",
        "print(\"State:\",data['location']['region'])\n",
        "print(\"Country:\",data['location']['country'])\n",
        "print(\"Temperature in c:\",data['current']['temp_c'])\n",
        "print(\"Wind Speed:\",data['current']['wind_mph'])\n",
        "print(\"Wind direction:\",data['current']['wind_dir'])\n",
        "print(\"Humidity:\",data['current']['humidity'])\n",
        "print(\"Feels:\",data['current']['feelslike_c'])\n"
      ],
      "metadata": {
        "colab": {
          "base_uri": "https://localhost:8080/"
        },
        "id": "wPlGX2p0SdHo",
        "outputId": "b64c5ba8-2be6-4c08-f55b-a0baaa8d4d87"
      },
      "execution_count": null,
      "outputs": [
        {
          "output_type": "stream",
          "name": "stdout",
          "text": [
            "City: Hyderabad\n",
            "State: Andhra Pradesh\n",
            "Country: India\n",
            "Temperature in c: 30.0\n",
            "Wind Speed: 2.2\n",
            "Wind direction: ESE\n",
            "Humidity: 38\n",
            "Feels: 28.6\n"
          ]
        }
      ]
    },
    {
      "cell_type": "code",
      "source": [
        "city=input(\"Enter city:\")\n",
        "print(city)"
      ],
      "metadata": {
        "colab": {
          "base_uri": "https://localhost:8080/"
        },
        "id": "mWjTzbCQVcUi",
        "outputId": "60352eef-274a-4914-9b74-6a9a92dd7050"
      },
      "execution_count": null,
      "outputs": [
        {
          "output_type": "stream",
          "name": "stdout",
          "text": [
            "Enter city:warangal\n",
            "warangal\n"
          ]
        }
      ]
    },
    {
      "cell_type": "markdown",
      "source": [
        "COVID-19 TRACKING API"
      ],
      "metadata": {
        "id": "NlDkbKkZPP8I"
      }
    },
    {
      "cell_type": "code",
      "source": [
        "import requests\n",
        "\n",
        "url = \"https://covid-19-tracking.p.rapidapi.com/v1/usa\"\n",
        "\n",
        "headers = {\n",
        "\t\"X-RapidAPI-Key\": \"922ac22f29mshfdfdc1d149c727dp13d584jsn9a814473023b\",\n",
        "\t\"X-RapidAPI-Host\": \"covid-19-tracking.p.rapidapi.com\"\n",
        "}\n",
        "\n",
        "response = requests.get(url, headers=headers)\n",
        "\n",
        "print(response.json())"
      ],
      "metadata": {
        "colab": {
          "base_uri": "https://localhost:8080/"
        },
        "id": "0nXDmu9y-Pi_",
        "outputId": "3cf8ed08-8d9a-4fc3-e36c-afce09aa6122"
      },
      "execution_count": 1,
      "outputs": [
        {
          "output_type": "stream",
          "name": "stdout",
          "text": [
            "{'Active Cases_text': '', 'Country_text': 'USA', 'Last Update': '2024-03-03 11:55', 'New Cases_text': '', 'New Deaths_text': '', 'Total Cases_text': '111,557,170', 'Total Deaths_text': '1,216,366', 'Total Recovered_text': '109,298,781'}\n"
          ]
        }
      ]
    },
    {
      "cell_type": "markdown",
      "source": [
        "DISTANCE CALCULATOR API"
      ],
      "metadata": {
        "id": "w1Aa7y_2PvPo"
      }
    },
    {
      "cell_type": "code",
      "source": [
        "import requests\n",
        "\n",
        "url = \"https://distance-calculator8.p.rapidapi.com/calc\"\n",
        "\n",
        "querystring = {\"startLatitude\":\"-26.311960\",\"startLongitude\":\"-48.880964\",\"endLatitude\":\"-26.313662\",\"endLongitude\":\"-48.881103\"}\n",
        "\n",
        "headers = {\n",
        "\t\"X-RapidAPI-Key\": \"8266ba0ebbmshedb8ed8b6037119p126fb2jsn2ad1740182cc\",\n",
        "\t\"X-RapidAPI-Host\": \"distance-calculator8.p.rapidapi.com\"\n",
        "}\n",
        "\n",
        "response = requests.get(url, headers=headers, params=querystring)\n",
        "\n",
        "print(response.json())"
      ],
      "metadata": {
        "colab": {
          "base_uri": "https://localhost:8080/"
        },
        "id": "jTQWTRAEm5HP",
        "outputId": "4dcf11e5-06df-4437-ffac-7546651af2ab"
      },
      "execution_count": null,
      "outputs": [
        {
          "output_type": "stream",
          "name": "stdout",
          "text": [
            "{'statusCode': 200, 'body': {'distance': {'meters': 189.7602141814502, 'kilometers': 0.1897602141814502, 'miles': 0.1179118235931812}}}\n"
          ]
        }
      ]
    },
    {
      "cell_type": "markdown",
      "source": [
        "TEXT TO SPEECH API"
      ],
      "metadata": {
        "id": "QZsvf702QGpM"
      }
    },
    {
      "cell_type": "code",
      "source": [
        "import requests\n",
        "\n",
        "url = \"https://cloudlabs-text-to-speech.p.rapidapi.com/synthesize\"\n",
        "\n",
        "\n",
        "payload = {\n",
        "\t\"voice_code\": \"en-US-1\",\n",
        "\t\"text\": \"Welcome data analysis using python class!!\",\n",
        "\t\"speed\": \"1.00\",\n",
        "\t\"pitch\": \"1.00\",\n",
        "\t\"output_type\": \"audio_url\"\n",
        "}\n",
        "headers = {\n",
        "\t\"content-type\": \"application/x-www-form-urlencoded\",\n",
        "\t\"X-RapidAPI-Key\": \"8266ba0ebbmshedb8ed8b6037119p126fb2jsn2ad1740182cc\",\n",
        "\t\"X-RapidAPI-Host\": \"cloudlabs-text-to-speech.p.rapidapi.com\"\n",
        "}\n",
        "\n",
        "response = requests.post(url, data=payload, headers=headers)\n",
        "\n",
        "print(response.json())"
      ],
      "metadata": {
        "colab": {
          "base_uri": "https://localhost:8080/"
        },
        "id": "AJ12AA8HpXEy",
        "outputId": "c40f6668-0588-4886-a1fe-29a76eca9cee"
      },
      "execution_count": null,
      "outputs": [
        {
          "output_type": "stream",
          "name": "stdout",
          "text": [
            "{'status': 'success', 'result': {'audio_url': 'https://storage.googleapis.com/cloudlabs-tts.appspot.com/audio/audio-d90e8aa041ae61a2b6f5ed77aab4ff20.mp3'}}\n"
          ]
        }
      ]
    }
  ]
}