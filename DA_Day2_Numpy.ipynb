{
  "nbformat": 4,
  "nbformat_minor": 0,
  "metadata": {
    "colab": {
      "provenance": []
    },
    "kernelspec": {
      "name": "python3",
      "display_name": "Python 3"
    },
    "language_info": {
      "name": "python"
    }
  },
  "cells": [
    {
      "cell_type": "code",
      "source": [
        "import numpy as np"
      ],
      "metadata": {
        "id": "ZHRovFnOfpa9"
      },
      "execution_count": 2,
      "outputs": []
    },
    {
      "cell_type": "code",
      "source": [
        "A=np.arange(1,13).reshape(3,4)\n",
        "print(A)"
      ],
      "metadata": {
        "colab": {
          "base_uri": "https://localhost:8080/"
        },
        "id": "sw0KHzoVgTu2",
        "outputId": "704656ad-f567-49f3-89bb-f34fbb41f28d"
      },
      "execution_count": 10,
      "outputs": [
        {
          "output_type": "stream",
          "name": "stdout",
          "text": [
            "[[ 1  2  3  4]\n",
            " [ 5  6  7  8]\n",
            " [ 9 10 11 12]]\n"
          ]
        }
      ]
    },
    {
      "cell_type": "code",
      "source": [
        "B=np.linspace(14,16,8).reshape(2,4)\n",
        "print(B)"
      ],
      "metadata": {
        "colab": {
          "base_uri": "https://localhost:8080/"
        },
        "id": "_Gd514cOgpuq",
        "outputId": "f461fc01-0ec5-4999-fdbb-7cf38f19239a"
      },
      "execution_count": 11,
      "outputs": [
        {
          "output_type": "stream",
          "name": "stdout",
          "text": [
            "[[14.         14.28571429 14.57142857 14.85714286]\n",
            " [15.14285714 15.42857143 15.71428571 16.        ]]\n"
          ]
        }
      ]
    },
    {
      "cell_type": "code",
      "source": [
        "C=np.array([4,3,2,4,2,6,7,3]).reshape(2,2,2)#Changes neesds saving in another variable\n",
        "print(C)"
      ],
      "metadata": {
        "colab": {
          "base_uri": "https://localhost:8080/"
        },
        "id": "KI_vzFMNiMp5",
        "outputId": "a2fe62bc-d126-4d4e-cce7-98fbc722efab"
      },
      "execution_count": 12,
      "outputs": [
        {
          "output_type": "stream",
          "name": "stdout",
          "text": [
            "[[[4 3]\n",
            "  [2 4]]\n",
            "\n",
            " [[2 6]\n",
            "  [7 3]]]\n"
          ]
        }
      ]
    },
    {
      "cell_type": "code",
      "source": [
        "D=np.array([4,3,2,4,2,6,7,3])\n",
        "D.resize(2,2,2)#Changes the shape of original array\n",
        "print(D)"
      ],
      "metadata": {
        "colab": {
          "base_uri": "https://localhost:8080/"
        },
        "id": "I3P3zb6_i3nk",
        "outputId": "2bac3ca9-393e-408d-b5be-f9042a58a5b5"
      },
      "execution_count": 14,
      "outputs": [
        {
          "output_type": "stream",
          "name": "stdout",
          "text": [
            "[[[4 3]\n",
            "  [2 4]]\n",
            "\n",
            " [[2 6]\n",
            "  [7 3]]]\n"
          ]
        }
      ]
    },
    {
      "cell_type": "code",
      "source": [
        "#Numpy arrays operations\n",
        "a=np.array([5,23,13,3,8])\n",
        "b=np.array([4,21,3,4,3])\n",
        "c=a-b\n",
        "print(c)"
      ],
      "metadata": {
        "colab": {
          "base_uri": "https://localhost:8080/"
        },
        "id": "XpH7w9-RkAAD",
        "outputId": "a9ede231-2ddb-4348-8eff-72d89f534581"
      },
      "execution_count": 15,
      "outputs": [
        {
          "output_type": "stream",
          "name": "stdout",
          "text": [
            "[ 1  2 10 -1  5]\n"
          ]
        }
      ]
    },
    {
      "cell_type": "code",
      "source": [
        "a=np.array([5,23,13,3,8])\n",
        "b=np.array([4,21,3,4,3])\n",
        "c=a+b\n",
        "print(c)"
      ],
      "metadata": {
        "colab": {
          "base_uri": "https://localhost:8080/"
        },
        "id": "Z0M-QXQnlFkF",
        "outputId": "ace92846-a8b5-4fc8-98ab-e1abcd873aa9"
      },
      "execution_count": 16,
      "outputs": [
        {
          "output_type": "stream",
          "name": "stdout",
          "text": [
            "[ 9 44 16  7 11]\n"
          ]
        }
      ]
    },
    {
      "cell_type": "code",
      "source": [
        "#Matrix multiplication\n",
        "a=np.array([5,23,13,3,8,9]).reshape(2,3)\n",
        "b=np.array([4,21,3,4,3,6]).reshape(3,2)\n",
        "print(a)\n",
        "print(b)\n",
        "c=a@b\n",
        "print(c)"
      ],
      "metadata": {
        "colab": {
          "base_uri": "https://localhost:8080/"
        },
        "id": "nK5mHkoTmTji",
        "outputId": "922209fb-320d-4095-e9ff-d69104b1283a"
      },
      "execution_count": 20,
      "outputs": [
        {
          "output_type": "stream",
          "name": "stdout",
          "text": [
            "[[ 5 23 13]\n",
            " [ 3  8  9]]\n",
            "[[ 4 21]\n",
            " [ 3  4]\n",
            " [ 3  6]]\n",
            "[[128 275]\n",
            " [ 63 149]]\n"
          ]
        }
      ]
    },
    {
      "cell_type": "code",
      "source": [
        "#Matrix multiplication\n",
        "a=np.array([5,23,13,3,8,9]).reshape(2,3)\n",
        "b=np.array([4,21,3,4,3,6]).reshape(3,2)\n",
        "print(a)\n",
        "print(b)\n",
        "c=a.dot(b)\n",
        "print(c)"
      ],
      "metadata": {
        "colab": {
          "base_uri": "https://localhost:8080/"
        },
        "id": "Ca1u0Hw-mzaC",
        "outputId": "055442c0-8e7e-4ced-a954-f7bc49d84cbd"
      },
      "execution_count": 21,
      "outputs": [
        {
          "output_type": "stream",
          "name": "stdout",
          "text": [
            "[[ 5 23 13]\n",
            " [ 3  8  9]]\n",
            "[[ 4 21]\n",
            " [ 3  4]\n",
            " [ 3  6]]\n",
            "[[128 275]\n",
            " [ 63 149]]\n"
          ]
        }
      ]
    },
    {
      "cell_type": "code",
      "source": [
        "#max & min works only for numeric data types like integer and float\n",
        "q=np.array([21,74,8,34,20])\n",
        "print(q.max())\n",
        "print(q.min())"
      ],
      "metadata": {
        "colab": {
          "base_uri": "https://localhost:8080/"
        },
        "id": "38F7-SDHnAbb",
        "outputId": "48270972-8778-4acc-f6f7-c141413184d3"
      },
      "execution_count": 22,
      "outputs": [
        {
          "output_type": "stream",
          "name": "stdout",
          "text": [
            "74\n",
            "8\n"
          ]
        }
      ]
    },
    {
      "cell_type": "code",
      "source": [
        "q=np.array([21,74,8,34]).reshape(2,2)\n",
        "print(q)\n",
        "print(q.max(axis=0))#column wise bigger number\n",
        "print(q.max(axis=1))#row wise bigger number"
      ],
      "metadata": {
        "colab": {
          "base_uri": "https://localhost:8080/"
        },
        "id": "gLwdhbDZn7M4",
        "outputId": "2c97e7d6-42a7-453b-9554-a862e47dbb13"
      },
      "execution_count": 24,
      "outputs": [
        {
          "output_type": "stream",
          "name": "stdout",
          "text": [
            "[[21 74]\n",
            " [ 8 34]]\n",
            "[21 74]\n",
            "[74 34]\n"
          ]
        }
      ]
    },
    {
      "cell_type": "code",
      "source": [
        "q=np.array([21,74,8,34]).reshape(2,2)\n",
        "print(q)\n",
        "print(q.min(axis=0))#column wise smaller number\n",
        "print(q.min(axis=1))#row wise smaller number"
      ],
      "metadata": {
        "colab": {
          "base_uri": "https://localhost:8080/"
        },
        "id": "jEw-BbAXpTa7",
        "outputId": "209338bd-d598-41be-9e3e-8aa40cadce58"
      },
      "execution_count": 25,
      "outputs": [
        {
          "output_type": "stream",
          "name": "stdout",
          "text": [
            "[[21 74]\n",
            " [ 8 34]]\n",
            "[ 8 34]\n",
            "[21  8]\n"
          ]
        }
      ]
    },
    {
      "cell_type": "code",
      "source": [
        "#Joining arrays vertically\n",
        "a=np.array([5,23,13,3]).reshape(2,2)\n",
        "b=np.array([4,21,3,4]).reshape(2,2)\n",
        "print(a)\n",
        "print(b)\n",
        "print(np.vstack((a,b)))"
      ],
      "metadata": {
        "colab": {
          "base_uri": "https://localhost:8080/"
        },
        "id": "ztgix2ltp0Ay",
        "outputId": "9dd14faf-a451-46db-b1c4-6adc863574f4"
      },
      "execution_count": 27,
      "outputs": [
        {
          "output_type": "stream",
          "name": "stdout",
          "text": [
            "[[ 5 23]\n",
            " [13  3]]\n",
            "[[ 4 21]\n",
            " [ 3  4]]\n",
            "[[ 5 23]\n",
            " [13  3]\n",
            " [ 4 21]\n",
            " [ 3  4]]\n"
          ]
        }
      ]
    },
    {
      "cell_type": "code",
      "source": [
        "#Joining arrays Horizontally\n",
        "a=np.array([5,23,13,3]).reshape(2,2)\n",
        "b=np.array([4,21,3,4]).reshape(2,2)\n",
        "print(a)\n",
        "print(b)\n",
        "print(np.hstack((a,b)))"
      ],
      "metadata": {
        "colab": {
          "base_uri": "https://localhost:8080/"
        },
        "id": "GD7goANIq27e",
        "outputId": "1a677ca9-3e07-494e-a804-59cd4b40a05e"
      },
      "execution_count": 28,
      "outputs": [
        {
          "output_type": "stream",
          "name": "stdout",
          "text": [
            "[[ 5 23]\n",
            " [13  3]]\n",
            "[[ 4 21]\n",
            " [ 3  4]]\n",
            "[[ 5 23  4 21]\n",
            " [13  3  3  4]]\n"
          ]
        }
      ]
    },
    {
      "cell_type": "code",
      "source": [
        "a=np.array([5,23,13,3]).reshape(2,2)\n",
        "b=np.array([4,21,3,4]).reshape(2,2)\n",
        "print(a)\n",
        "print(b)\n",
        "print(np.stack((a,b),axis=0))"
      ],
      "metadata": {
        "colab": {
          "base_uri": "https://localhost:8080/"
        },
        "id": "Vtt0EIe6qtHD",
        "outputId": "c4f3a021-5a5f-45d5-eba8-b70703981424"
      },
      "execution_count": 29,
      "outputs": [
        {
          "output_type": "stream",
          "name": "stdout",
          "text": [
            "[[ 5 23]\n",
            " [13  3]]\n",
            "[[ 4 21]\n",
            " [ 3  4]]\n",
            "[[[ 5 23]\n",
            "  [13  3]]\n",
            "\n",
            " [[ 4 21]\n",
            "  [ 3  4]]]\n"
          ]
        }
      ]
    },
    {
      "cell_type": "code",
      "source": [
        "a=np.array([5,23,13,3]).reshape(2,2)\n",
        "b=np.array([4,21,3,4]).reshape(2,2)\n",
        "print(a)\n",
        "print(b)\n",
        "print(np.stack((a,b),axis=1))\n",
        "#no.of rows will be no.of groups\n",
        "#no. of columns in every group will be no. of every group\n"
      ],
      "metadata": {
        "colab": {
          "base_uri": "https://localhost:8080/"
        },
        "id": "z1mA55ZpreH_",
        "outputId": "7455ade9-0113-433b-85b7-1d0d812d76d1"
      },
      "execution_count": 30,
      "outputs": [
        {
          "output_type": "stream",
          "name": "stdout",
          "text": [
            "[[ 5 23]\n",
            " [13  3]]\n",
            "[[ 4 21]\n",
            " [ 3  4]]\n",
            "[[[ 5 23]\n",
            "  [ 4 21]]\n",
            "\n",
            " [[13  3]\n",
            "  [ 3  4]]]\n"
          ]
        }
      ]
    },
    {
      "cell_type": "code",
      "source": [
        "A=np.arange(30).reshape(2,3,5)\n",
        "print(A)\n",
        "print(np.dstack(A))"
      ],
      "metadata": {
        "colab": {
          "base_uri": "https://localhost:8080/"
        },
        "id": "A1a9zLiEsFTd",
        "outputId": "4bbd234f-1fa6-4cfa-a8af-6001b898d3fb"
      },
      "execution_count": 31,
      "outputs": [
        {
          "output_type": "stream",
          "name": "stdout",
          "text": [
            "[[[ 0  1  2  3  4]\n",
            "  [ 5  6  7  8  9]\n",
            "  [10 11 12 13 14]]\n",
            "\n",
            " [[15 16 17 18 19]\n",
            "  [20 21 22 23 24]\n",
            "  [25 26 27 28 29]]]\n",
            "[[[ 0 15]\n",
            "  [ 1 16]\n",
            "  [ 2 17]\n",
            "  [ 3 18]\n",
            "  [ 4 19]]\n",
            "\n",
            " [[ 5 20]\n",
            "  [ 6 21]\n",
            "  [ 7 22]\n",
            "  [ 8 23]\n",
            "  [ 9 24]]\n",
            "\n",
            " [[10 25]\n",
            "  [11 26]\n",
            "  [12 27]\n",
            "  [13 28]\n",
            "  [14 29]]]\n"
          ]
        }
      ]
    },
    {
      "cell_type": "code",
      "source": [
        "#Splitting arrays\n",
        "A=np.arange(18).reshape(6,3)\n",
        "print(A)\n",
        "print(np.vsplit(A,3))"
      ],
      "metadata": {
        "colab": {
          "base_uri": "https://localhost:8080/"
        },
        "id": "sGauOcEDu2Fg",
        "outputId": "13e71989-b7d8-4815-a899-1304977fd1ce"
      },
      "execution_count": 32,
      "outputs": [
        {
          "output_type": "stream",
          "name": "stdout",
          "text": [
            "[[ 0  1  2]\n",
            " [ 3  4  5]\n",
            " [ 6  7  8]\n",
            " [ 9 10 11]\n",
            " [12 13 14]\n",
            " [15 16 17]]\n",
            "[array([[0, 1, 2],\n",
            "       [3, 4, 5]]), array([[ 6,  7,  8],\n",
            "       [ 9, 10, 11]]), array([[12, 13, 14],\n",
            "       [15, 16, 17]])]\n"
          ]
        }
      ]
    },
    {
      "cell_type": "code",
      "source": [
        "A=np.arange(18).reshape(6,3)\n",
        "print(A)\n",
        "print(np.vsplit(A,(2,3)))"
      ],
      "metadata": {
        "colab": {
          "base_uri": "https://localhost:8080/"
        },
        "id": "FkMQ2utRwkJ_",
        "outputId": "f7383065-4e4c-4a74-c175-ec84606d8efc"
      },
      "execution_count": 35,
      "outputs": [
        {
          "output_type": "stream",
          "name": "stdout",
          "text": [
            "[[ 0  1  2]\n",
            " [ 3  4  5]\n",
            " [ 6  7  8]\n",
            " [ 9 10 11]\n",
            " [12 13 14]\n",
            " [15 16 17]]\n",
            "[array([[0, 1, 2],\n",
            "       [3, 4, 5]]), array([[6, 7, 8]]), array([[ 9, 10, 11],\n",
            "       [12, 13, 14],\n",
            "       [15, 16, 17]])]\n"
          ]
        }
      ]
    },
    {
      "cell_type": "code",
      "source": [
        "A=np.arange(18).reshape(6,3)\n",
        "print(A)\n",
        "print(np.vsplit(A,(2,5)))"
      ],
      "metadata": {
        "colab": {
          "base_uri": "https://localhost:8080/"
        },
        "id": "GHCBTPudyKjM",
        "outputId": "2f83d3e1-98c9-4a5c-87ba-210120451650"
      },
      "execution_count": 36,
      "outputs": [
        {
          "output_type": "stream",
          "name": "stdout",
          "text": [
            "[[ 0  1  2]\n",
            " [ 3  4  5]\n",
            " [ 6  7  8]\n",
            " [ 9 10 11]\n",
            " [12 13 14]\n",
            " [15 16 17]]\n",
            "[array([[0, 1, 2],\n",
            "       [3, 4, 5]]), array([[ 6,  7,  8],\n",
            "       [ 9, 10, 11],\n",
            "       [12, 13, 14]]), array([[15, 16, 17]])]\n"
          ]
        }
      ]
    },
    {
      "cell_type": "code",
      "source": [
        "A=np.arange(18).reshape(3,6)\n",
        "print(A)\n",
        "print(np.hsplit(A,(2,5)))"
      ],
      "metadata": {
        "colab": {
          "base_uri": "https://localhost:8080/"
        },
        "id": "yoRbRjrizaSS",
        "outputId": "f0aa2641-e597-4a74-b1f1-aba5ef62e84e"
      },
      "execution_count": 39,
      "outputs": [
        {
          "output_type": "stream",
          "name": "stdout",
          "text": [
            "[[ 0  1  2  3  4  5]\n",
            " [ 6  7  8  9 10 11]\n",
            " [12 13 14 15 16 17]]\n",
            "[array([[ 0,  1],\n",
            "       [ 6,  7],\n",
            "       [12, 13]]), array([[ 2,  3,  4],\n",
            "       [ 8,  9, 10],\n",
            "       [14, 15, 16]]), array([[ 5],\n",
            "       [11],\n",
            "       [17]])]\n"
          ]
        }
      ]
    },
    {
      "cell_type": "code",
      "source": [
        "a=np.array([5,23,13,3]).reshape(2,2)\n",
        "print(a)\n",
        "print(a.argmax())"
      ],
      "metadata": {
        "colab": {
          "base_uri": "https://localhost:8080/"
        },
        "id": "nqSU3XwU1w7a",
        "outputId": "63ab1535-e8db-4eeb-aeae-cfc64fa6c0b7"
      },
      "execution_count": 40,
      "outputs": [
        {
          "output_type": "stream",
          "name": "stdout",
          "text": [
            "[[ 5 23]\n",
            " [13  3]]\n",
            "1\n"
          ]
        }
      ]
    },
    {
      "cell_type": "code",
      "source": [
        "a=np.array([5,23,13,3]).reshape(2,2)\n",
        "print(a)\n",
        "print(a.argmax(axis=0))"
      ],
      "metadata": {
        "colab": {
          "base_uri": "https://localhost:8080/"
        },
        "id": "7mqHRcAI3_yD",
        "outputId": "a716a057-991f-4c7e-86be-254bacbac67f"
      },
      "execution_count": 41,
      "outputs": [
        {
          "output_type": "stream",
          "name": "stdout",
          "text": [
            "[[ 5 23]\n",
            " [13  3]]\n",
            "[1 0]\n"
          ]
        }
      ]
    },
    {
      "cell_type": "code",
      "source": [
        "a=np.array([5,23,13,3]).reshape(2,2)\n",
        "print(a)\n",
        "print(a.argmax(axis=1))"
      ],
      "metadata": {
        "colab": {
          "base_uri": "https://localhost:8080/"
        },
        "id": "5jWL9EcA426c",
        "outputId": "0f4e6cd7-990e-46b2-97d4-43376b6da194"
      },
      "execution_count": 42,
      "outputs": [
        {
          "output_type": "stream",
          "name": "stdout",
          "text": [
            "[[ 5 23]\n",
            " [13  3]]\n",
            "[1 0]\n"
          ]
        }
      ]
    },
    {
      "cell_type": "code",
      "source": [
        "a=np.array([5,23,13,3]).reshape(2,2)\n",
        "print(a)\n",
        "print(a.argmin())"
      ],
      "metadata": {
        "colab": {
          "base_uri": "https://localhost:8080/"
        },
        "id": "TG_cOYr046pf",
        "outputId": "2b4d879b-68e3-424c-848f-9260f05b5f55"
      },
      "execution_count": 43,
      "outputs": [
        {
          "output_type": "stream",
          "name": "stdout",
          "text": [
            "[[ 5 23]\n",
            " [13  3]]\n",
            "3\n"
          ]
        }
      ]
    },
    {
      "cell_type": "markdown",
      "source": [
        "STATISTICS"
      ],
      "metadata": {
        "id": "o1OUk6Vp6V-y"
      }
    },
    {
      "cell_type": "code",
      "source": [
        "#Mean,Median,std,variance\n",
        "A=np.array([24,3,56,42,12])\n",
        "print(\"Mean:\",np.mean(A))\n",
        "print(\"Median:\",np.median(A))\n",
        "print(\"Variance:\",np.var(A))\n",
        "print(\"Standard Deviation\",np.std(A))"
      ],
      "metadata": {
        "colab": {
          "base_uri": "https://localhost:8080/"
        },
        "id": "2W8UGTI16ZTM",
        "outputId": "491c3582-f162-45da-b5e0-a9abc93f259c"
      },
      "execution_count": 48,
      "outputs": [
        {
          "output_type": "stream",
          "name": "stdout",
          "text": [
            "Mean: 27.4\n",
            "Median: 24.0\n",
            "Variance: 375.03999999999996\n",
            "Standard Deviation 19.365949499056327\n"
          ]
        }
      ]
    },
    {
      "cell_type": "markdown",
      "source": [
        "TRIGNOMETRY"
      ],
      "metadata": {
        "id": "VVwjCYRb7ZBn"
      }
    },
    {
      "cell_type": "code",
      "source": [
        "#PI VALUE\n",
        "a=np.pi\n",
        "print(a)#radians\n",
        "print(np.rad2deg(a))#converts radians to degree"
      ],
      "metadata": {
        "colab": {
          "base_uri": "https://localhost:8080/"
        },
        "id": "6P4V1BVh7cB3",
        "outputId": "a6640155-adc6-4224-e92c-680fc460a220"
      },
      "execution_count": 47,
      "outputs": [
        {
          "output_type": "stream",
          "name": "stdout",
          "text": [
            "3.141592653589793\n",
            "180.0\n"
          ]
        }
      ]
    },
    {
      "cell_type": "code",
      "source": [
        "#Radians to degree conversion\n",
        "A=np.array([np.pi/4,np.pi/3,np.pi/2,np.pi])\n",
        "print(np.rad2deg(A))"
      ],
      "metadata": {
        "colab": {
          "base_uri": "https://localhost:8080/"
        },
        "id": "RslTt8if8BL9",
        "outputId": "498da7d6-954e-4ed5-bc56-f51013cae887"
      },
      "execution_count": 49,
      "outputs": [
        {
          "output_type": "stream",
          "name": "stdout",
          "text": [
            "[ 45.  60.  90. 180.]\n"
          ]
        }
      ]
    },
    {
      "cell_type": "code",
      "source": [
        "#Degree to radians conversion\n",
        "r=np.array([0,30,45,60,90,120,180])\n",
        "c=np.deg2rad(r)\n",
        "print(c)\n"
      ],
      "metadata": {
        "colab": {
          "base_uri": "https://localhost:8080/"
        },
        "id": "8e51pZx88_eM",
        "outputId": "3b4559ed-b569-4c48-f61c-22f2f21e21c8"
      },
      "execution_count": 52,
      "outputs": [
        {
          "output_type": "stream",
          "name": "stdout",
          "text": [
            "[0.         0.52359878 0.78539816 1.04719755 1.57079633 2.0943951\n",
            " 3.14159265]\n"
          ]
        }
      ]
    },
    {
      "cell_type": "code",
      "source": [
        "np.sin(r)"
      ],
      "metadata": {
        "colab": {
          "base_uri": "https://localhost:8080/"
        },
        "id": "vHpW9HNj9fq1",
        "outputId": "c5f3f4b1-133c-4266-9a31-1d95a522a6c8"
      },
      "execution_count": 53,
      "outputs": [
        {
          "output_type": "execute_result",
          "data": {
            "text/plain": [
              "array([ 0.        , -0.98803162,  0.85090352, -0.30481062,  0.89399666,\n",
              "        0.58061118, -0.80115264])"
            ]
          },
          "metadata": {},
          "execution_count": 53
        }
      ]
    },
    {
      "cell_type": "code",
      "source": [
        "np.cos(r)"
      ],
      "metadata": {
        "colab": {
          "base_uri": "https://localhost:8080/"
        },
        "id": "M5wy_Sqo9tIc",
        "outputId": "97c8f8b0-5119-412a-ecf4-883cf3ad49dc"
      },
      "execution_count": 54,
      "outputs": [
        {
          "output_type": "execute_result",
          "data": {
            "text/plain": [
              "array([ 1.        ,  0.15425145,  0.52532199, -0.95241298, -0.44807362,\n",
              "        0.81418097, -0.59846007])"
            ]
          },
          "metadata": {},
          "execution_count": 54
        }
      ]
    },
    {
      "cell_type": "code",
      "source": [
        "np.tan(r)"
      ],
      "metadata": {
        "colab": {
          "base_uri": "https://localhost:8080/"
        },
        "id": "Yqoa5a9W9zZ-",
        "outputId": "a0a3e71d-46ed-41ce-c5a8-0efbe82d1044"
      },
      "execution_count": 55,
      "outputs": [
        {
          "output_type": "execute_result",
          "data": {
            "text/plain": [
              "array([ 0.        , -6.4053312 ,  1.61977519,  0.32004039, -1.99520041,\n",
              "        0.71312301,  1.33869021])"
            ]
          },
          "metadata": {},
          "execution_count": 55
        }
      ]
    },
    {
      "cell_type": "code",
      "source": [
        "np.arcsin(0)#sin^-1"
      ],
      "metadata": {
        "colab": {
          "base_uri": "https://localhost:8080/"
        },
        "id": "Ed25KeZe-YMk",
        "outputId": "93addeed-40ae-473e-83e7-a6c81880e3b4"
      },
      "execution_count": 56,
      "outputs": [
        {
          "output_type": "execute_result",
          "data": {
            "text/plain": [
              "0.0"
            ]
          },
          "metadata": {},
          "execution_count": 56
        }
      ]
    },
    {
      "cell_type": "code",
      "source": [
        "np.arccos(1)#cos^-1"
      ],
      "metadata": {
        "colab": {
          "base_uri": "https://localhost:8080/"
        },
        "id": "x-hYGnqU-dni",
        "outputId": "6f704c4e-c734-4051-fc61-94bcacc3d35e"
      },
      "execution_count": 58,
      "outputs": [
        {
          "output_type": "execute_result",
          "data": {
            "text/plain": [
              "0.0"
            ]
          },
          "metadata": {},
          "execution_count": 58
        }
      ]
    },
    {
      "cell_type": "code",
      "source": [
        "np.arctan(1)#tan^-1"
      ],
      "metadata": {
        "colab": {
          "base_uri": "https://localhost:8080/"
        },
        "id": "IjeKZQSZ-kic",
        "outputId": "f7403738-0423-4c4d-950f-4aad0d907f28"
      },
      "execution_count": 59,
      "outputs": [
        {
          "output_type": "execute_result",
          "data": {
            "text/plain": [
              "0.7853981633974483"
            ]
          },
          "metadata": {},
          "execution_count": 59
        }
      ]
    },
    {
      "cell_type": "code",
      "source": [
        "a=9\n",
        "b=7\n",
        "print(np.hypot(a,b))"
      ],
      "metadata": {
        "colab": {
          "base_uri": "https://localhost:8080/"
        },
        "id": "v5czNmg0-4Ql",
        "outputId": "b315bcdf-b79b-48ca-dade-7a287e87e120"
      },
      "execution_count": 60,
      "outputs": [
        {
          "output_type": "stream",
          "name": "stdout",
          "text": [
            "11.40175425099138\n"
          ]
        }
      ]
    },
    {
      "cell_type": "markdown",
      "source": [
        "SEARCHING"
      ],
      "metadata": {
        "id": "9EVbjuMs_oKu"
      }
    },
    {
      "cell_type": "code",
      "source": [
        "A=np.array([32,2,4,5,21,8])\n",
        "print(np.where(A==8))"
      ],
      "metadata": {
        "colab": {
          "base_uri": "https://localhost:8080/"
        },
        "id": "PFdoy49R_r_g",
        "outputId": "f1fe4925-c1b3-405d-c72e-f494c5c5885c"
      },
      "execution_count": 61,
      "outputs": [
        {
          "output_type": "stream",
          "name": "stdout",
          "text": [
            "(array([5]),)\n"
          ]
        }
      ]
    },
    {
      "cell_type": "code",
      "source": [
        "A=np.array([32,2,4,5,21,8])\n",
        "print(np.where(A>8))"
      ],
      "metadata": {
        "colab": {
          "base_uri": "https://localhost:8080/"
        },
        "id": "CcOlkcu2ADl6",
        "outputId": "3d21984d-1d59-41e9-ebf7-eebd03270eda"
      },
      "execution_count": 62,
      "outputs": [
        {
          "output_type": "stream",
          "name": "stdout",
          "text": [
            "(array([0, 4]),)\n"
          ]
        }
      ]
    },
    {
      "cell_type": "code",
      "source": [
        "A=np.array([32,2,4,5,21,8])\n",
        "print(np.searchsorted(A,8))"
      ],
      "metadata": {
        "colab": {
          "base_uri": "https://localhost:8080/"
        },
        "id": "S9-RkkssRd1M",
        "outputId": "aa048cb3-d28f-4e05-befa-ef66bfe6c4b9"
      },
      "execution_count": 4,
      "outputs": [
        {
          "output_type": "stream",
          "name": "stdout",
          "text": [
            "4\n"
          ]
        }
      ]
    },
    {
      "cell_type": "markdown",
      "source": [
        "Linear algebra and func"
      ],
      "metadata": {
        "id": "zsLyUTZbT1zS"
      }
    },
    {
      "cell_type": "code",
      "source": [
        "A=np.array([5,8,74,14])\n",
        "B=np.array([50,7,88,1])\n",
        "print(\"Sum :\",np.add(A,B))\n",
        "print(\"Difference:\",np.subtract(A,B))\n",
        "print(\"Product\",np.multiply(A,B))\n",
        "print(\"Quotient\",np.divide(A,B))\n",
        "print(\"Remainder\",np.mod(A,B))\n",
        "print(np.divmod(A,B))"
      ],
      "metadata": {
        "colab": {
          "base_uri": "https://localhost:8080/"
        },
        "id": "1JMje0ZVUD9C",
        "outputId": "b5107736-6a71-4f9d-92a2-265df15b9418"
      },
      "execution_count": 8,
      "outputs": [
        {
          "output_type": "stream",
          "name": "stdout",
          "text": [
            "Sum : [ 55  15 162  15]\n",
            "Difference: [-45   1 -14  13]\n",
            "Product [ 250   56 6512   14]\n",
            "Quotient [ 0.1         1.14285714  0.84090909 14.        ]\n",
            "Remainder [ 5  1 74  0]\n",
            "(array([ 0,  1,  0, 14]), array([ 5,  1, 74,  0]))\n"
          ]
        }
      ]
    },
    {
      "cell_type": "markdown",
      "source": [
        "SORT"
      ],
      "metadata": {
        "id": "GmHBSM1eV-_c"
      }
    },
    {
      "cell_type": "code",
      "source": [
        "A=np.array([5,8,74,14])\n",
        "print(np.sort(A))"
      ],
      "metadata": {
        "colab": {
          "base_uri": "https://localhost:8080/"
        },
        "id": "Mc_mZkHtWAKP",
        "outputId": "9e68f2db-84bb-4b74-93f1-1a8aa5a0b0d3"
      },
      "execution_count": 11,
      "outputs": [
        {
          "output_type": "stream",
          "name": "stdout",
          "text": [
            "[ 5  8 14 74]\n"
          ]
        }
      ]
    },
    {
      "cell_type": "markdown",
      "source": [
        "SET FUNCTIONS"
      ],
      "metadata": {
        "id": "92BJsBvmWUZ0"
      }
    },
    {
      "cell_type": "code",
      "source": [
        "A=np.array([5,7,74,14])\n",
        "B=np.array([50,7,88,1])\n",
        "print(np.union1d(A,B))"
      ],
      "metadata": {
        "colab": {
          "base_uri": "https://localhost:8080/"
        },
        "id": "jVvjZGnPWYcb",
        "outputId": "1c7631c3-48aa-4dcc-afe4-45d89d5be3b0"
      },
      "execution_count": 15,
      "outputs": [
        {
          "output_type": "stream",
          "name": "stdout",
          "text": [
            "[ 1  5  7 14 50 74 88]\n"
          ]
        }
      ]
    },
    {
      "cell_type": "code",
      "source": [
        "A=np.array([5,7,74,14])\n",
        "B=np.array([50,7,88,1])\n",
        "print(np.setdiff1d(A,B))\n"
      ],
      "metadata": {
        "colab": {
          "base_uri": "https://localhost:8080/"
        },
        "id": "lifqkJKoW0rk",
        "outputId": "c029525b-2039-4737-df58-16e32f915e67"
      },
      "execution_count": 16,
      "outputs": [
        {
          "output_type": "stream",
          "name": "stdout",
          "text": [
            "[ 5 14 74]\n"
          ]
        }
      ]
    },
    {
      "cell_type": "code",
      "source": [
        "A=np.array([5,7,74,14])\n",
        "B=np.array([50,7,88,1])\n",
        "print(np.intersect1d(A,B))"
      ],
      "metadata": {
        "colab": {
          "base_uri": "https://localhost:8080/"
        },
        "id": "iE6jFNQOXFBN",
        "outputId": "4735eecc-63fd-4f86-fd37-25d7c196972e"
      },
      "execution_count": 17,
      "outputs": [
        {
          "output_type": "stream",
          "name": "stdout",
          "text": [
            "[7]\n"
          ]
        }
      ]
    },
    {
      "cell_type": "markdown",
      "source": [
        "ROUNDING"
      ],
      "metadata": {
        "id": "qfTg5ekiXVw-"
      }
    },
    {
      "cell_type": "code",
      "source": [
        "a=np.trunc([2.0983,-6.9182])\n",
        "print(a)"
      ],
      "metadata": {
        "colab": {
          "base_uri": "https://localhost:8080/"
        },
        "id": "NUsOebO3XXsX",
        "outputId": "5a71c597-3432-407e-b921-d018dc763cc0"
      },
      "execution_count": 20,
      "outputs": [
        {
          "output_type": "stream",
          "name": "stdout",
          "text": [
            "[ 2. -6.]\n"
          ]
        }
      ]
    },
    {
      "cell_type": "code",
      "source": [
        "a=np.fix([2.0983,-6.9182])\n",
        "print(a)"
      ],
      "metadata": {
        "colab": {
          "base_uri": "https://localhost:8080/"
        },
        "id": "4DhBQPwoYSZe",
        "outputId": "2ae2f4d4-8bac-4ca2-9abb-876c5d93f3a4"
      },
      "execution_count": 21,
      "outputs": [
        {
          "output_type": "stream",
          "name": "stdout",
          "text": [
            "[ 2. -6.]\n"
          ]
        }
      ]
    },
    {
      "cell_type": "code",
      "source": [
        "a=np.around(2.0983,2)\n",
        "print(a)"
      ],
      "metadata": {
        "colab": {
          "base_uri": "https://localhost:8080/"
        },
        "id": "d9d717m2Yjig",
        "outputId": "639b551f-0274-485f-996a-d7956efe1621"
      },
      "execution_count": 23,
      "outputs": [
        {
          "output_type": "stream",
          "name": "stdout",
          "text": [
            "2.1\n"
          ]
        }
      ]
    },
    {
      "cell_type": "code",
      "source": [
        "a=np.floor([2.0983,-6.9182])\n",
        "print(a)"
      ],
      "metadata": {
        "colab": {
          "base_uri": "https://localhost:8080/"
        },
        "id": "KfWjxSTIYtfk",
        "outputId": "611564ec-3eda-46cd-916d-241ea6dd7930"
      },
      "execution_count": 24,
      "outputs": [
        {
          "output_type": "stream",
          "name": "stdout",
          "text": [
            "[ 2. -7.]\n"
          ]
        }
      ]
    },
    {
      "cell_type": "code",
      "source": [
        "a=np.ceil([2.0983,-6.9182])\n",
        "print(a)"
      ],
      "metadata": {
        "colab": {
          "base_uri": "https://localhost:8080/"
        },
        "id": "AV-hwHyzY0NA",
        "outputId": "56f4e3d5-9019-470a-e22c-df77892e75d8"
      },
      "execution_count": 25,
      "outputs": [
        {
          "output_type": "stream",
          "name": "stdout",
          "text": [
            "[ 3. -6.]\n"
          ]
        }
      ]
    },
    {
      "cell_type": "markdown",
      "source": [
        "More Functions"
      ],
      "metadata": {
        "id": "175ZvtPRZ0W-"
      }
    },
    {
      "cell_type": "code",
      "source": [
        "#Cumulative Sum\n",
        "a=np.array([9,3,4,12,5,3])\n",
        "print(np.cumsum(a))"
      ],
      "metadata": {
        "colab": {
          "base_uri": "https://localhost:8080/"
        },
        "id": "s3JbjSPQaT2A",
        "outputId": "69a667d8-8949-40dd-dbea-4d3308280a02"
      },
      "execution_count": 27,
      "outputs": [
        {
          "output_type": "stream",
          "name": "stdout",
          "text": [
            "[ 9 12 16 28 33 36]\n"
          ]
        }
      ]
    },
    {
      "cell_type": "code",
      "source": [
        "#Cumulative Product\n",
        "a=np.array([9,3,4,12,5,3])\n",
        "print(np.cumprod(a))\n"
      ],
      "metadata": {
        "colab": {
          "base_uri": "https://localhost:8080/"
        },
        "id": "ffP1nraeaWBe",
        "outputId": "a84d71ad-1b7d-4e88-b9e2-80e5f9d7ef59"
      },
      "execution_count": 28,
      "outputs": [
        {
          "output_type": "stream",
          "name": "stdout",
          "text": [
            "[    9    27   108  1296  6480 19440]\n"
          ]
        }
      ]
    },
    {
      "cell_type": "code",
      "source": [
        "#LCM & GCD\n",
        "print(\"LCM:\",np.lcm(43,76))\n",
        "print(\"GCD:\",np.gcd(222,86))"
      ],
      "metadata": {
        "colab": {
          "base_uri": "https://localhost:8080/"
        },
        "id": "BJiP3YS5an0s",
        "outputId": "415c2deb-b73e-408b-82b8-95c7528c3cb3"
      },
      "execution_count": 32,
      "outputs": [
        {
          "output_type": "stream",
          "name": "stdout",
          "text": [
            "LCM: 3268\n",
            "GCD: 2\n"
          ]
        }
      ]
    },
    {
      "cell_type": "code",
      "source": [
        "#LCM & GCD for multiple elements\n",
        "a=np.array([9,3,4,12,5,3])\n",
        "print(\"LCM:\",np.lcm.reduce(a))\n",
        "print(\"GCD:\",np.gcd.reduce(a))\n"
      ],
      "metadata": {
        "colab": {
          "base_uri": "https://localhost:8080/"
        },
        "id": "hxHri0rZbROC",
        "outputId": "b421105c-7b4c-45f7-9b43-0acd76b7c28a"
      },
      "execution_count": 31,
      "outputs": [
        {
          "output_type": "stream",
          "name": "stdout",
          "text": [
            "LCM: 180\n",
            "GCD: 1\n"
          ]
        }
      ]
    },
    {
      "cell_type": "code",
      "source": [
        "a=np.array([[1,2],[3,4]])\n",
        "print(np.linalg.inv(a))"
      ],
      "metadata": {
        "colab": {
          "base_uri": "https://localhost:8080/"
        },
        "id": "J8jUg8Q9cVav",
        "outputId": "c0168cc0-dee7-4d70-d5e0-fa7908e30311"
      },
      "execution_count": 34,
      "outputs": [
        {
          "output_type": "stream",
          "name": "stdout",
          "text": [
            "[[-2.   1. ]\n",
            " [ 1.5 -0.5]]\n"
          ]
        }
      ]
    },
    {
      "cell_type": "code",
      "source": [
        "from numpy import random as rd"
      ],
      "metadata": {
        "id": "4J4hjA86dmQH"
      },
      "execution_count": 35,
      "outputs": []
    },
    {
      "cell_type": "code",
      "source": [
        "a=rd.rand()#limit-0 to 0.99\n",
        "print(a)"
      ],
      "metadata": {
        "colab": {
          "base_uri": "https://localhost:8080/"
        },
        "id": "aOuM2BkjeSKH",
        "outputId": "46e43ef2-89a7-4f65-e592-c673f108d6b4"
      },
      "execution_count": 36,
      "outputs": [
        {
          "output_type": "stream",
          "name": "stdout",
          "text": [
            "0.5175978205336816\n"
          ]
        }
      ]
    },
    {
      "cell_type": "code",
      "source": [
        "a=rd.randint(4)#limit - 0 to 4\n",
        "print(a)"
      ],
      "metadata": {
        "colab": {
          "base_uri": "https://localhost:8080/"
        },
        "id": "400oEugNehOL",
        "outputId": "b5a9d90d-41e9-4f44-a01d-4fb95041cabd"
      },
      "execution_count": 41,
      "outputs": [
        {
          "output_type": "stream",
          "name": "stdout",
          "text": [
            "2\n"
          ]
        }
      ]
    },
    {
      "cell_type": "code",
      "source": [
        "a=rd.randint(40,size=6)#limit with size\n",
        "print(a)"
      ],
      "metadata": {
        "colab": {
          "base_uri": "https://localhost:8080/"
        },
        "id": "VXAgBq8YeyyT",
        "outputId": "caa79fd0-91c6-4526-db9a-9f2634cb1723"
      },
      "execution_count": 42,
      "outputs": [
        {
          "output_type": "stream",
          "name": "stdout",
          "text": [
            "[ 7  2 17 37 30 21]\n"
          ]
        }
      ]
    },
    {
      "cell_type": "code",
      "source": [
        "a=rd.randint(40,size=(3,3))#limit with shape\n",
        "print(a)"
      ],
      "metadata": {
        "colab": {
          "base_uri": "https://localhost:8080/"
        },
        "id": "eEQg_nMMe-xX",
        "outputId": "bac96ca8-7028-4a1b-a229-f397f1c17474"
      },
      "execution_count": 43,
      "outputs": [
        {
          "output_type": "stream",
          "name": "stdout",
          "text": [
            "[[32 38 11]\n",
            " [ 0 11  2]\n",
            " [25 31 15]]\n"
          ]
        }
      ]
    },
    {
      "cell_type": "code",
      "source": [
        "a=np.array([1,2,3])\n",
        "b=np.array([4,5,6])\n",
        "print(np.inner(a,b))"
      ],
      "metadata": {
        "colab": {
          "base_uri": "https://localhost:8080/"
        },
        "id": "-Jxc-ObEgNMk",
        "outputId": "1ae5f751-8d14-4a24-8d50-f4b369583824"
      },
      "execution_count": 44,
      "outputs": [
        {
          "output_type": "stream",
          "name": "stdout",
          "text": [
            "32\n"
          ]
        }
      ]
    },
    {
      "cell_type": "code",
      "source": [
        "#[1*4 1*5 1*6]\n",
        "#[2*4 2*5 2*6]....\n",
        "a=np.array([1,2,3])\n",
        "b=np.array([4,5,6])\n",
        "print(np.outer(a,b))"
      ],
      "metadata": {
        "colab": {
          "base_uri": "https://localhost:8080/"
        },
        "id": "Ho2tVIuUg7iA",
        "outputId": "34020f02-493a-4e19-b437-07e37c922749"
      },
      "execution_count": 45,
      "outputs": [
        {
          "output_type": "stream",
          "name": "stdout",
          "text": [
            "[[ 4  5  6]\n",
            " [ 8 10 12]\n",
            " [12 15 18]]\n"
          ]
        }
      ]
    },
    {
      "cell_type": "code",
      "source": [
        "#Cross joint / Determinant\n",
        "a=np.array([1,2,3])\n",
        "b=np.array([4,5,6])\n",
        "print(np.cross(a,b))"
      ],
      "metadata": {
        "colab": {
          "base_uri": "https://localhost:8080/"
        },
        "id": "TqDamkLnhS98",
        "outputId": "1e46f71a-a5ab-4bd4-ba15-861ebb16f7f8"
      },
      "execution_count": 46,
      "outputs": [
        {
          "output_type": "stream",
          "name": "stdout",
          "text": [
            "[-3  6 -3]\n"
          ]
        }
      ]
    }
  ]
}